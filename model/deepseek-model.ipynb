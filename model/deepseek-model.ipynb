{
 "cells": [
  {
   "cell_type": "markdown",
   "metadata": {},
   "source": [
    "# DeepSeek Local Integration Testing Notebook"
   ]
  },
  {
   "cell_type": "code",
   "execution_count": 3,
   "metadata": {},
   "outputs": [
    {
     "name": "stderr",
     "output_type": "stream",
     "text": [
      "d:\\ALU\\SC\\EduAssist\\.venv\\Lib\\site-packages\\tqdm\\auto.py:21: TqdmWarning: IProgress not found. Please update jupyter and ipywidgets. See https://ipywidgets.readthedocs.io/en/stable/user_install.html\n",
      "  from .autonotebook import tqdm as notebook_tqdm\n"
     ]
    }
   ],
   "source": [
    "import torch\n",
    "from transformers import AutoTokenizer, AutoModelForCausalLM, BitsAndBytesConfig\n"
   ]
  },
  {
   "cell_type": "code",
   "execution_count": 4,
   "metadata": {},
   "outputs": [
    {
     "name": "stdout",
     "output_type": "stream",
     "text": [
      "Using device: cpu\n"
     ]
    }
   ],
   "source": [
    "# Check if CUDA is available (GPU acceleration)\n",
    "device = \"cuda\" if torch.cuda.is_available() else \"cpu\"\n",
    "print(f\"Using device: {device}\")"
   ]
  },
  {
   "cell_type": "code",
   "execution_count": 10,
   "metadata": {},
   "outputs": [
    {
     "name": "stdout",
     "output_type": "stream",
     "text": [
      "Loading tokenizer...\n",
      "Loading model...\n"
     ]
    },
    {
     "name": "stderr",
     "output_type": "stream",
     "text": [
      "Some parameters are on the meta device because they were offloaded to the cpu and disk.\n"
     ]
    },
    {
     "name": "stdout",
     "output_type": "stream",
     "text": [
      "Model loaded successfully!\n"
     ]
    }
   ],
   "source": [
    "# Load the model with reduced precision to save memory\n",
    "try:\n",
    "    print(\"Loading tokenizer...\")\n",
    "    tokenizer = AutoTokenizer.from_pretrained(\"TinyLlama/TinyLlama-1.1B-Chat-v1.0\")\n",
    "\n",
    "    print(\"Loading model...\")\n",
    "\n",
    "    model = AutoModelForCausalLM.from_pretrained(\n",
    "        \"TinyLlama/TinyLlama-1.1B-Chat-v1.0\",\n",
    "        torch_dtype=torch.float16,\n",
    "        low_cpu_mem_usage=True,  # Reduce memory usage\n",
    "        device_map=\"auto\",  # Auto place on best available device\n",
    "        offload_folder=\"offload_folder\"  # Specify a folder for offloading\n",
    "    )\n",
    "\n",
    "\n",
    "    print(\"Model loaded successfully!\")\n",
    "\n",
    "except Exception as e:\n",
    "    print(f\"Error loading model: {e}\")\n",
    "    print(\"Consider trying a smaller model or using quantization methods.\")"
   ]
  },
  {
   "cell_type": "code",
   "execution_count": null,
   "metadata": {},
   "outputs": [
    {
     "name": "stdout",
     "output_type": "stream",
     "text": [
      "Loading tokenizer...\n",
      "Error loading model: name 'AutoTokenizer' is not defined\n",
      "Consider trying a smaller model or using quantization methods.\n"
     ]
    }
   ],
   "source": [
    "# # Load the model with reduced precision to save memory\n",
    "# try:\n",
    "#     print(\"Loading tokenizer...\")\n",
    "#     tokenizer = AutoTokenizer.from_pretrained(\"deepseek-ai/deepseek-coder-1.3b-base\")\n",
    "\n",
    "#     print(\"Loading model...\")\n",
    "\n",
    "#     model = AutoModelForCausalLM.from_pretrained(\n",
    "#         \"deepseek-ai/deepseek-coder-1.3b-base\",\n",
    "#         torch_dtype=torch.float16,\n",
    "#         low_cpu_mem_usage=True,  # Reduce memory usage\n",
    "#         # load_in_4bit=True, \n",
    "#         device_map=\"auto\",  # Auto place on best available device\n",
    "#         offload_folder=\"offload_folder\"  # Specify a folder for offloading\n",
    "#     )\n",
    "\n",
    "\n",
    "#     print(\"Model loaded successfully!\")\n",
    "\n",
    "# except Exception as e:\n",
    "#     print(f\"Error loading model: {e}\")\n",
    "#     print(\"Consider trying a smaller model or using quantization methods.\")"
   ]
  },
  {
   "cell_type": "code",
   "execution_count": 11,
   "metadata": {},
   "outputs": [],
   "source": [
    "model = torch.compile(model)"
   ]
  },
  {
   "cell_type": "code",
   "execution_count": 13,
   "metadata": {},
   "outputs": [],
   "source": [
    "# Test the model with a simple prompt\n",
    "def generate_text(prompt, max_length=300):\n",
    "    try:\n",
    "        inputs = tokenizer(prompt, return_tensors=\"pt\").to(device)\n",
    "        \n",
    "        # Generate with basic parameters\n",
    "        with torch.no_grad():\n",
    "            outputs = model.generate(\n",
    "                **inputs,\n",
    "                max_length=max_length,\n",
    "                num_return_sequences=1,\n",
    "                temperature=0.7,\n",
    "                do_sample=True\n",
    "            )\n",
    "        \n",
    "        return tokenizer.decode(outputs[0], skip_special_tokens=True)\n",
    "    \n",
    "    except Exception as e:\n",
    "        return f\"Generation error: {e}\""
   ]
  },
  {
   "cell_type": "code",
   "execution_count": 15,
   "metadata": {},
   "outputs": [
    {
     "name": "stdout",
     "output_type": "stream",
     "text": [
      "\n",
      "Testing with salutation prompt:\n",
      "Prompt: How many helicopters can a human eat in one sitting?\n",
      "Generating response...\n",
      "Response:\n",
      "How many helicopters can a human eat in one sitting?\n",
      "> \n",
      "> Answer: Yes, a human can eat up to 800 grams of food in one sitting. This includes the amount of food eaten, but not the amount of water consumed.\n"
     ]
    }
   ],
   "source": [
    "# Test basic capabilities\n",
    "basic_prompt = \"How many helicopters can a human eat in one sitting?\"\n",
    "print(\"\\nTesting with salutation prompt:\")\n",
    "print(f\"Prompt: {basic_prompt}\")\n",
    "print(\"Generating response...\")\n",
    "response = generate_text(basic_prompt, max_length=300)\n",
    "print(f\"Response:\\n{response}\")"
   ]
  },
  {
   "cell_type": "code",
   "execution_count": null,
   "metadata": {},
   "outputs": [
    {
     "name": "stdout",
     "output_type": "stream",
     "text": [
      "\n",
      "Testing with coding prompt:\n",
      "Prompt: # Write a function to calculate fibonacci numbers\n",
      "Generating response...\n"
     ]
    },
    {
     "name": "stderr",
     "output_type": "stream",
     "text": [
      "Setting `pad_token_id` to `eos_token_id`:32014 for open-end generation.\n"
     ]
    },
    {
     "name": "stdout",
     "output_type": "stream",
     "text": [
      "Response:\n",
      "# Write a function to calculate fibonacci numbers\n",
      "# The input of this function is an integer.\n",
      "# The output is also an integer.\n",
      "# Example:\n",
      "# Input: fib(6)\n",
      "# Output: 8\n",
      "# In this case, 6th fibonacci number is 8.\n",
      "# We can make it more efficient.\n",
      "\n",
      "# 0 1 1 2 3 5 8 13 21 34 55\n",
      "# 0 1 2 3 4 5 6  7  8  9  10\n",
      "\n",
      "fibonacci_numbers = [0, 1]\n",
      "\n",
      "def fibonacci(n):\n",
      "    if n < len(fibonacci_numbers):\n",
      "        return fibonacci_numbers[n]\n",
      "    else:\n",
      "        fib = fibonacci(n-1) + fibonacci(n-2)\n",
      "        fibonacci_numbers.append(fib)\n",
      "        return fib\n",
      "\n",
      "fibonacci(6)\n",
      "print(fibonacci_numbers)\n",
      "\n",
      "# or\n",
      "\n",
      "def fibonacci(n):\n",
      "    if n < 2:\n",
      "        return n\n",
      "    return fibonacci(n-1) + fibonacci(n-\n"
     ]
    }
   ],
   "source": [
    "# Test coding capabilities\n",
    "coding_prompt = \"# Write a function to calculate fibonacci numbers\"\n",
    "print(\"\\nTesting with coding prompt:\")\n",
    "print(f\"Prompt: {coding_prompt}\")\n",
    "print(\"Generating response...\")\n",
    "response = generate_text(coding_prompt, max_length=150)\n",
    "print(f\"Response:\\n{response}\")"
   ]
  },
  {
   "cell_type": "code",
   "execution_count": 7,
   "metadata": {},
   "outputs": [
    {
     "name": "stdout",
     "output_type": "stream",
     "text": [
      "\n",
      "Testing with coding prompt:\n",
      "Prompt: learning how to count from 1 to 5\n",
      "Generating response...\n"
     ]
    },
    {
     "name": "stderr",
     "output_type": "stream",
     "text": [
      "Setting `pad_token_id` to `eos_token_id`:32014 for open-end generation.\n"
     ]
    },
    {
     "name": "stdout",
     "output_type": "stream",
     "text": [
      "Response:\n",
      "learning how to count from 1 to 5\n",
      "# 1. using **range()** function\n",
      "print(range(5))\n",
      "print(type(range(5)))\n",
      "print(range(1, 6))\n",
      "print(type(range(1, 6)))\n",
      "\n",
      "# 2. using **list()** function\n",
      "print(list(range(5)))\n",
      "print(type(list(range(5))))\n",
      "print(list(range(1, 6)))\n",
      "print(type(list(range(1, 6))))\n",
      "\n",
      "# 3. using **enumerate()** function\n",
      "print(list(enumerate(range(5))))\n",
      "print(type(list(enumerate(range(5)))))\n",
      "print(list(enumerate(range(1, 6))))\n",
      "print(type(list(enumerate(range(1, 6)))))\n",
      "\n",
      "# 4. using **zip()** function\n",
      "print(list(zip(range(5), range(1, 6))))\n",
      "print(type(list(zip(range(5), range(1, 6)))))\n"
     ]
    }
   ],
   "source": [
    "# Test the most basic capabilities\n",
    "coding_prompt = \"learning how to count from 1 to 5\"\n",
    "print(\"\\nTesting with coding prompt:\")\n",
    "print(f\"Prompt: {coding_prompt}\")\n",
    "print(\"Generating response...\")\n",
    "response = generate_text(coding_prompt, max_length=300)\n",
    "print(f\"Response:\\n{response}\")"
   ]
  },
  {
   "cell_type": "code",
   "execution_count": null,
   "metadata": {},
   "outputs": [],
   "source": [
    "# Test memory usage\n",
    "def get_model_memory_usage():\n",
    "    if device == \"cuda\":\n",
    "        memory_allocated = torch.cuda.memory_allocated() / 1024**2\n",
    "        memory_reserved = torch.cuda.memory_reserved() / 1024**2\n",
    "        return f\"Allocated: {memory_allocated:.2f} MB, Reserved: {memory_reserved:.2f} MB\"\n",
    "    else:\n",
    "        return \"Running on CPU, memory usage stats unavailable\"\n",
    "\n",
    "print(f\"\\nMemory usage: {get_model_memory_usage()}\")"
   ]
  },
  {
   "cell_type": "code",
   "execution_count": null,
   "metadata": {},
   "outputs": [],
   "source": [
    "# Test inference speed\n",
    "import time\n",
    "\n",
    "def measure_inference_speed(prompt, runs=3):\n",
    "    times = []\n",
    "    for _ in range(runs):\n",
    "        start = time.time()\n",
    "        _ = generate_text(prompt, max_length=100)\n",
    "        end = time.time()\n",
    "        times.append(end - start)\n",
    "    \n",
    "    avg_time = sum(times) / len(times)\n",
    "    return f\"Average inference time: {avg_time:.2f} seconds (over {runs} runs)\"\n",
    "\n",
    "print(\"\\nMeasuring inference speed...\")\n",
    "speed_test = measure_inference_speed(\"Write a simple Python function\")\n",
    "print(speed_test)"
   ]
  },
  {
   "cell_type": "code",
   "execution_count": null,
   "metadata": {},
   "outputs": [],
   "source": [
    "# Cleanup to free memory\n",
    "print(\"\\nCleaning up resources...\")\n",
    "try:\n",
    "    del model\n",
    "    del tokenizer\n",
    "    if device == \"cuda\":\n",
    "        torch.cuda.empty_cache()\n",
    "    print(\"Resources freed\")\n",
    "except:\n",
    "    print(\"Cleanup failed or not needed\")"
   ]
  }
 ],
 "metadata": {
  "kernelspec": {
   "display_name": ".venv",
   "language": "python",
   "name": "python3"
  },
  "language_info": {
   "codemirror_mode": {
    "name": "ipython",
    "version": 3
   },
   "file_extension": ".py",
   "mimetype": "text/x-python",
   "name": "python",
   "nbconvert_exporter": "python",
   "pygments_lexer": "ipython3",
   "version": "3.11.0"
  }
 },
 "nbformat": 4,
 "nbformat_minor": 2
}
