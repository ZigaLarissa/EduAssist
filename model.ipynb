{
 "cells": [
  {
   "cell_type": "code",
   "execution_count": 4,
   "metadata": {},
   "outputs": [],
   "source": [
    "import pandas as pd\n",
    "import numpy as np\n",
    "import spacy\n",
    "from sklearn.feature_extraction.text import TfidfVectorizer\n",
    "from sklearn.metrics.pairwise import cosine_similarity"
   ]
  },
  {
   "cell_type": "code",
   "execution_count": 6,
   "metadata": {},
   "outputs": [],
   "source": [
    "# Load spaCy model\n",
    "nlp = spacy.load(\"en_core_web_sm\")"
   ]
  },
  {
   "cell_type": "code",
   "execution_count": 12,
   "metadata": {},
   "outputs": [
    {
     "data": {
      "text/html": [
       "<div>\n",
       "<style scoped>\n",
       "    .dataframe tbody tr th:only-of-type {\n",
       "        vertical-align: middle;\n",
       "    }\n",
       "\n",
       "    .dataframe tbody tr th {\n",
       "        vertical-align: top;\n",
       "    }\n",
       "\n",
       "    .dataframe thead th {\n",
       "        text-align: right;\n",
       "    }\n",
       "</style>\n",
       "<table border=\"1\" class=\"dataframe\">\n",
       "  <thead>\n",
       "    <tr style=\"text-align: right;\">\n",
       "      <th></th>\n",
       "      <th>Grade Level</th>\n",
       "      <th>Subject</th>\n",
       "      <th>Topic Keywords</th>\n",
       "      <th>URL</th>\n",
       "    </tr>\n",
       "  </thead>\n",
       "  <tbody>\n",
       "    <tr>\n",
       "      <th>0</th>\n",
       "      <td>Primary 1</td>\n",
       "      <td>Math</td>\n",
       "      <td>Addition, Subtraction, multiplicatin division</td>\n",
       "      <td>https://elearning.reb.rw/pluginfile.php/45472/...</td>\n",
       "    </tr>\n",
       "    <tr>\n",
       "      <th>1</th>\n",
       "      <td>Primary 2</td>\n",
       "      <td>Science</td>\n",
       "      <td>Plants, Animals, water, air</td>\n",
       "      <td>https://elearning.reb.rw/pluginfile.php/85767/...</td>\n",
       "    </tr>\n",
       "    <tr>\n",
       "      <th>2</th>\n",
       "      <td>Primary 3</td>\n",
       "      <td>English</td>\n",
       "      <td>Grammar, Vocabulary</td>\n",
       "      <td>https://elearning.reb.rw/pluginfile.php/45481/...</td>\n",
       "    </tr>\n",
       "  </tbody>\n",
       "</table>\n",
       "</div>"
      ],
      "text/plain": [
       "  Grade Level  Subject                                 Topic Keywords  \\\n",
       "0   Primary 1     Math  Addition, Subtraction, multiplicatin division   \n",
       "1   Primary 2  Science                    Plants, Animals, water, air   \n",
       "2   Primary 3  English                            Grammar, Vocabulary   \n",
       "\n",
       "                                                 URL  \n",
       "0  https://elearning.reb.rw/pluginfile.php/45472/...  \n",
       "1  https://elearning.reb.rw/pluginfile.php/85767/...  \n",
       "2  https://elearning.reb.rw/pluginfile.php/45481/...  "
      ]
     },
     "execution_count": 12,
     "metadata": {},
     "output_type": "execute_result"
    }
   ],
   "source": [
    "# Sample dataset of REB resources\n",
    "reb_resources = pd.DataFrame({\n",
    "    'Grade Level': ['Primary 1', 'Primary 2', 'Primary 3'],\n",
    "    'Subject': ['Math', 'Science', 'English'],\n",
    "    'Topic Keywords': ['Addition, Subtraction, multiplicatin division', 'Plants, Animals, water, air', 'Grammar, Vocabulary'],\n",
    "    'URL': [\n",
    "        'https://elearning.reb.rw/pluginfile.php/45472/mod_resource/content/2/MATH%20P1.pdf',\n",
    "        'https://elearning.reb.rw/pluginfile.php/85767/mod_resource/content/1/SET%20P2%20Student%20Book.pdf',\n",
    "        'https://elearning.reb.rw/pluginfile.php/45481/mod_resource/content/1/English%20p3.pdf'\n",
    "    ]\n",
    "})\n",
    "\n",
    "reb_resources.head()"
   ]
  },
  {
   "cell_type": "code",
   "execution_count": 13,
   "metadata": {},
   "outputs": [],
   "source": [
    "# Convert topic keywords into a single text column\n",
    "reb_resources['Combined Text'] = reb_resources[['Grade Level', 'Subject', 'Topic Keywords']].agg(' '.join, axis=1)"
   ]
  },
  {
   "cell_type": "code",
   "execution_count": 14,
   "metadata": {},
   "outputs": [],
   "source": [
    "# TF-IDF Vectorization\n",
    "vectorizer = TfidfVectorizer()\n",
    "resource_vectors = vectorizer.fit_transform(reb_resources['Combined Text'])"
   ]
  },
  {
   "cell_type": "code",
   "execution_count": 17,
   "metadata": {},
   "outputs": [],
   "source": [
    "def get_recommendation(assignment_desc):\n",
    "    \"\"\"Recommend REB e-learning resource based on assignment description.\"\"\"\n",
    "    # Preprocess assignment text\n",
    "    assignment_doc = nlp(assignment_desc.lower())\n",
    "    keywords = ' '.join([token.lemma_ for token in assignment_doc if not token.is_stop])\n",
    "    \n",
    "    # Convert to TF-IDF vector\n",
    "    assignment_vector = vectorizer.transform([keywords])\n",
    "    \n",
    "    # Compute similarity\n",
    "    similarities = cosine_similarity(assignment_vector, resource_vectors)\n",
    "    \n",
    "    # Get the best match\n",
    "    best_match_idx = np.argmax(similarities)\n",
    "    best_resource = reb_resources.iloc[best_match_idx]\n",
    "    \n",
    "    return best_resource['URL']"
   ]
  },
  {
   "cell_type": "code",
   "execution_count": 18,
   "metadata": {},
   "outputs": [
    {
     "name": "stdout",
     "output_type": "stream",
     "text": [
      "Recommended REB Resource: https://elearning.reb.rw/pluginfile.php/45472/mod_resource/content/2/MATH%20P1.pdf\n"
     ]
    }
   ],
   "source": [
    "# Example Usage\n",
    "assignment_text = \"Practice basic addition and subtraction.\"\n",
    "recommended_url = get_recommendation(assignment_text)\n",
    "print(\"Recommended REB Resource:\", recommended_url)\n"
   ]
  }
 ],
 "metadata": {
  "kernelspec": {
   "display_name": ".venv",
   "language": "python",
   "name": "python3"
  },
  "language_info": {
   "codemirror_mode": {
    "name": "ipython",
    "version": 3
   },
   "file_extension": ".py",
   "mimetype": "text/x-python",
   "name": "python",
   "nbconvert_exporter": "python",
   "pygments_lexer": "ipython3",
   "version": "3.11.0"
  }
 },
 "nbformat": 4,
 "nbformat_minor": 2
}
